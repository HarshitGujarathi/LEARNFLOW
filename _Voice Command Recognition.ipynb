{
 "cells": [
  {
   "cell_type": "code",
   "execution_count": 11,
   "id": "d949d794",
   "metadata": {},
   "outputs": [
    {
     "name": "stdout",
     "output_type": "stream",
     "text": [
      "Requirement already satisfied: SpeechRecognition in c:\\users\\harsh\\anaconda3\\lib\\site-packages (3.10.2)\n",
      "Requirement already satisfied: requests>=2.26.0 in c:\\users\\harsh\\anaconda3\\lib\\site-packages (from SpeechRecognition) (2.31.0)\n",
      "Requirement already satisfied: typing-extensions in c:\\users\\harsh\\anaconda3\\lib\\site-packages (from SpeechRecognition) (4.7.1)\n",
      "Requirement already satisfied: charset-normalizer<4,>=2 in c:\\users\\harsh\\anaconda3\\lib\\site-packages (from requests>=2.26.0->SpeechRecognition) (2.0.4)\n",
      "Requirement already satisfied: idna<4,>=2.5 in c:\\users\\harsh\\anaconda3\\lib\\site-packages (from requests>=2.26.0->SpeechRecognition) (3.4)\n",
      "Requirement already satisfied: urllib3<3,>=1.21.1 in c:\\users\\harsh\\anaconda3\\lib\\site-packages (from requests>=2.26.0->SpeechRecognition) (1.26.16)\n",
      "Requirement already satisfied: certifi>=2017.4.17 in c:\\users\\harsh\\anaconda3\\lib\\site-packages (from requests>=2.26.0->SpeechRecognition) (2023.7.22)\n",
      "Requirement already satisfied: pyaudio in c:\\users\\harsh\\anaconda3\\lib\\site-packages (0.2.14)\n",
      "Listening...\n",
      "Recognizing...\n",
      "Command: how\n",
      "Performing action based on command: how\n",
      "I am find\n"
     ]
    }
   ],
   "source": [
    "# Install necessary libraries\n",
    "!pip install SpeechRecognition\n",
    "!pip install pyaudio\n",
    "\n",
    "import speech_recognition as sr\n",
    "import webbrowser\n",
    "\n",
    "# Function to recognize speech from microphone input\n",
    "def recognize_speech_from_microphone():\n",
    "    r = sr.Recognizer()\n",
    "    with sr.Microphone() as source:\n",
    "        print(\"Listening...\")\n",
    "        audio_data = r.listen(source)\n",
    "    \n",
    "    try:\n",
    "        print(\"Recognizing...\")\n",
    "        command = r.recognize_google(audio_data)\n",
    "        print(f\"Command: {command}\")\n",
    "        return command.lower()\n",
    "    except sr.UnknownValueError:\n",
    "        print(\"Sorry, could not understand the audio.\")\n",
    "        return \"\"\n",
    "    except sr.RequestError as e:\n",
    "        print(f\"Could not request results; {e}\")\n",
    "        return \"\"\n",
    "\n",
    "# Main function\n",
    "def main():\n",
    "    # Recognize speech from microphone input\n",
    "    command = recognize_speech_from_microphone()\n",
    "    \n",
    "    # Perform actions based on recognized command\n",
    "    if command:\n",
    "        # Your logic to perform actionable tasks based on the recognized command\n",
    "        print(\"Performing action based on command:\", command)\n",
    "        if 'play a song' in command:\n",
    "            # Open YouTube to play a song\n",
    "            webbrowser.open(\"https://open.spotify.com/\")\n",
    "        elif 'open a video' in command:\n",
    "            # Open YouTube to open a video\n",
    "            webbrowser.open(\"https://youtube.com/shorts/z9VLLIB_6I0?si=U-XD937zxUrrzYyn\")\n",
    "        elif 'hello' in command:\n",
    "            print(\"Hello how can i assist you\")\n",
    "        else:\n",
    "            print(\"Command not recognized.\")\n",
    "    else:\n",
    "        print(\"Please try again.\")\n",
    "\n",
    "# Run the main function\n",
    "main()\n"
   ]
  }
 ],
 "metadata": {
  "kernelspec": {
   "display_name": "Python 3 (ipykernel)",
   "language": "python",
   "name": "python3"
  },
  "language_info": {
   "codemirror_mode": {
    "name": "ipython",
    "version": 3
   },
   "file_extension": ".py",
   "mimetype": "text/x-python",
   "name": "python",
   "nbconvert_exporter": "python",
   "pygments_lexer": "ipython3",
   "version": "3.11.5"
  }
 },
 "nbformat": 4,
 "nbformat_minor": 5
}
